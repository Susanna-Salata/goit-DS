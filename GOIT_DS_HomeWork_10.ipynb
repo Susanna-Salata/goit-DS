{
  "nbformat": 4,
  "nbformat_minor": 0,
  "metadata": {
    "colab": {
      "provenance": [],
      "authorship_tag": "ABX9TyOL9a4EbwipmdGwRDukpULZ",
      "include_colab_link": true
    },
    "kernelspec": {
      "name": "python3",
      "display_name": "Python 3"
    },
    "language_info": {
      "name": "python"
    }
  },
  "cells": [
    {
      "cell_type": "markdown",
      "metadata": {
        "id": "view-in-github",
        "colab_type": "text"
      },
      "source": [
        "<a href=\"https://colab.research.google.com/github/Susanna-Salata/goit-DS/blob/main/GOIT_DS_HomeWork_10.ipynb\" target=\"_parent\"><img src=\"https://colab.research.google.com/assets/colab-badge.svg\" alt=\"Open In Colab\"/></a>"
      ]
    },
    {
      "cell_type": "code",
      "execution_count": 7,
      "metadata": {
        "id": "eoqQoLHt_lo-"
      },
      "outputs": [],
      "source": [
        "import tensorflow as tf\n",
        "from tensorflow import keras\n",
        "import numpy as np\n",
        "import matplotlib.pyplot as plt\n",
        "%matplotlib inline"
      ]
    },
    {
      "cell_type": "code",
      "source": [
        "(x_train, y_train), (x_val, y_val) = keras.datasets.fashion_mnist.load_data()"
      ],
      "metadata": {
        "id": "thrOIWoH_tK4"
      },
      "execution_count": 8,
      "outputs": []
    },
    {
      "cell_type": "code",
      "source": [
        "def preprocess(x, y):\n",
        "  x = tf.cast(x, tf.float32) / 255.0\n",
        "  y = tf.cast(y, tf.int64)\n",
        "\n",
        "  return x, y\n",
        "\n",
        "def create_dataset(xs, ys, n_classes=10):\n",
        "  ys = tf.one_hot(ys, depth=n_classes)\n",
        "  return tf.data.Dataset.from_tensor_slices((xs, ys)) \\\n",
        "    .map(preprocess) \\\n",
        "    .shuffle(len(ys)) \\\n",
        "    .batch(128)"
      ],
      "metadata": {
        "id": "MGvt-Wmc_zGF"
      },
      "execution_count": 9,
      "outputs": []
    },
    {
      "cell_type": "code",
      "source": [
        "train_dataset = create_dataset(x_train, y_train)\n",
        "val_dataset = create_dataset(x_val, y_val)"
      ],
      "metadata": {
        "id": "1VSyWsN__7OB"
      },
      "execution_count": 10,
      "outputs": []
    },
    {
      "cell_type": "code",
      "source": [
        "\n",
        "model = keras.Sequential([\n",
        "    keras.layers.Reshape(target_shape=(28 * 28,), input_shape=(28, 28)),\n",
        "    keras.layers.Dense(units=256, activation='relu'),\n",
        "    keras.layers.Dense(units=192, activation='relu'),\n",
        "    keras.layers.Dense(units=128, activation='relu'),\n",
        "    keras.layers.Dense(units=10, activation='softmax')\n",
        "])"
      ],
      "metadata": {
        "id": "Nh1ZG-3j_9_P"
      },
      "execution_count": 11,
      "outputs": []
    },
    {
      "cell_type": "code",
      "source": [
        "\n",
        "model.compile(optimizer='adam', \n",
        "              loss=tf.losses.CategoricalCrossentropy(from_logits=True),\n",
        "              metrics=['accuracy'])\n",
        "\n",
        "history = model.fit(\n",
        "    train_dataset.repeat(), \n",
        "    epochs=10, \n",
        "    steps_per_epoch=500,\n",
        "    validation_data=val_dataset.repeat(), \n",
        "    validation_steps=2\n",
        ")"
      ],
      "metadata": {
        "colab": {
          "base_uri": "https://localhost:8080/"
        },
        "id": "1D4y3lKzAFhv",
        "outputId": "115a3c45-3744-4d25-e31a-2516f52cf0fc"
      },
      "execution_count": 12,
      "outputs": [
        {
          "output_type": "stream",
          "name": "stdout",
          "text": [
            "Epoch 1/10\n"
          ]
        },
        {
          "output_type": "stream",
          "name": "stderr",
          "text": [
            "/usr/local/lib/python3.8/dist-packages/tensorflow/python/util/dispatch.py:1082: UserWarning: \"`categorical_crossentropy` received `from_logits=True`, but the `output` argument was produced by a sigmoid or softmax activation and thus does not represent logits. Was this intended?\"\n",
            "  return dispatch_target(*args, **kwargs)\n"
          ]
        },
        {
          "output_type": "stream",
          "name": "stdout",
          "text": [
            "500/500 [==============================] - 7s 9ms/step - loss: 0.5006 - accuracy: 0.8240 - val_loss: 0.3973 - val_accuracy: 0.8281\n",
            "Epoch 2/10\n",
            "500/500 [==============================] - 4s 9ms/step - loss: 0.3571 - accuracy: 0.8691 - val_loss: 0.3802 - val_accuracy: 0.8711\n",
            "Epoch 3/10\n",
            "500/500 [==============================] - 4s 8ms/step - loss: 0.3191 - accuracy: 0.8822 - val_loss: 0.2926 - val_accuracy: 0.8789\n",
            "Epoch 4/10\n",
            "500/500 [==============================] - 4s 8ms/step - loss: 0.2973 - accuracy: 0.8910 - val_loss: 0.2473 - val_accuracy: 0.9102\n",
            "Epoch 5/10\n",
            "500/500 [==============================] - 4s 9ms/step - loss: 0.2769 - accuracy: 0.8959 - val_loss: 0.4289 - val_accuracy: 0.8438\n",
            "Epoch 6/10\n",
            "500/500 [==============================] - 4s 8ms/step - loss: 0.2635 - accuracy: 0.9017 - val_loss: 0.3633 - val_accuracy: 0.8789\n",
            "Epoch 7/10\n",
            "500/500 [==============================] - 4s 8ms/step - loss: 0.2490 - accuracy: 0.9066 - val_loss: 0.2677 - val_accuracy: 0.9219\n",
            "Epoch 8/10\n",
            "500/500 [==============================] - 4s 8ms/step - loss: 0.2420 - accuracy: 0.9091 - val_loss: 0.2716 - val_accuracy: 0.8984\n",
            "Epoch 9/10\n",
            "500/500 [==============================] - 4s 9ms/step - loss: 0.2295 - accuracy: 0.9124 - val_loss: 0.3121 - val_accuracy: 0.8906\n",
            "Epoch 10/10\n",
            "500/500 [==============================] - 4s 9ms/step - loss: 0.2210 - accuracy: 0.9164 - val_loss: 0.2874 - val_accuracy: 0.8945\n"
          ]
        }
      ]
    },
    {
      "cell_type": "code",
      "source": [
        "predictions = model.predict(val_dataset)"
      ],
      "metadata": {
        "colab": {
          "base_uri": "https://localhost:8080/"
        },
        "id": "QJoC49YwAGkM",
        "outputId": "67e7c4cb-f5a4-491b-9ff7-729044618e71"
      },
      "execution_count": 13,
      "outputs": [
        {
          "output_type": "stream",
          "name": "stdout",
          "text": [
            "79/79 [==============================] - 1s 3ms/step\n"
          ]
        }
      ]
    },
    {
      "cell_type": "code",
      "source": [
        "np.argmax(predictions[123])"
      ],
      "metadata": {
        "colab": {
          "base_uri": "https://localhost:8080/"
        },
        "id": "KYcuV3RvAMGP",
        "outputId": "ea3807b3-023b-4f66-be21-c6ab36d0f527"
      },
      "execution_count": 16,
      "outputs": [
        {
          "output_type": "execute_result",
          "data": {
            "text/plain": [
              "7"
            ]
          },
          "metadata": {},
          "execution_count": 16
        }
      ]
    },
    {
      "cell_type": "code",
      "source": [],
      "metadata": {
        "colab": {
          "base_uri": "https://localhost:8080/"
        },
        "id": "_PutJzZhA90w",
        "outputId": "7522c7b3-db1d-4d28-e079-d49e1956226c"
      },
      "execution_count": 18,
      "outputs": [
        {
          "output_type": "execute_result",
          "data": {
            "text/plain": [
              "<BatchDataset element_spec=(TensorSpec(shape=(None, 28, 28), dtype=tf.float32, name=None), TensorSpec(shape=(None, 10), dtype=tf.int64, name=None))>"
            ]
          },
          "metadata": {},
          "execution_count": 18
        }
      ]
    },
    {
      "cell_type": "code",
      "source": [
        "n_images = 5\n",
        "test_images = x_val[:n_images]\n",
        "\n",
        "# display\n",
        "for i in range(n_images):\n",
        "    plt.imshow(np.reshape(test_images[i],[28,28]),cmap='gray')\n",
        "    plt.show()\n",
        "    print('Model prediction:%i'%np.argmax(predictions[i]))"
      ],
      "metadata": {
        "colab": {
          "base_uri": "https://localhost:8080/",
          "height": 1000
        },
        "id": "v0DNaG8_ApfY",
        "outputId": "1b7e7a46-0cb9-4f1f-cdb9-cfc258662357"
      },
      "execution_count": 24,
      "outputs": [
        {
          "output_type": "display_data",
          "data": {
            "text/plain": [
              "<Figure size 432x288 with 1 Axes>"
            ],
            "image/png": "[encoded data removed]"
          },
          "metadata": {
            "needs_background": "light"
          }
        },
        {
          "output_type": "stream",
          "name": "stdout",
          "text": [
            "Model prediction:9\n"
          ]
        },
        {
          "output_type": "display_data",
          "data": {
            "text/plain": [
              "<Figure size 432x288 with 1 Axes>"
            ],
            "image/png": "[encoded data removed]"
          },
          "metadata": {
            "needs_background": "light"
          }
        },
        {
          "output_type": "stream",
          "name": "stdout",
          "text": [
            "Model prediction:2\n"
          ]
        },
        {
          "output_type": "display_data",
          "data": {
            "text/plain": [
              "<Figure size 432x288 with 1 Axes>"
            ],
            "image/png": "[encoded data removed]"
          },
          "metadata": {
            "needs_background": "light"
          }
        },
        {
          "output_type": "stream",
          "name": "stdout",
          "text": [
            "Model prediction:1\n"
          ]
        },
        {
          "output_type": "display_data",
          "data": {
            "text/plain": [
              "<Figure size 432x288 with 1 Axes>"
            ],
            "image/png": "[encoded data removed]"
          },
          "metadata": {
            "needs_background": "light"
          }
        },
        {
          "output_type": "stream",
          "name": "stdout",
          "text": [
            "Model prediction:1\n"
          ]
        },
        {
          "output_type": "display_data",
          "data": {
            "text/plain": [
              "<Figure size 432x288 with 1 Axes>"
            ],
            "image/png": "[encoded data removed]"
          },
          "metadata": {
            "needs_background": "light"
          }
        },
        {
          "output_type": "stream",
          "name": "stdout",
          "text": [
            "Model prediction:0\n"
          ]
        }
      ]
    },
    {
      "cell_type": "code",
      "source": [],
      "metadata": {
        "id": "raYQy3XGA6cX"
      },
      "execution_count": null,
      "outputs": []
    }
  ]
}
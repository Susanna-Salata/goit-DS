{
  "nbformat": 4,
  "nbformat_minor": 0,
  "metadata": {
    "colab": {
      "provenance": [],
      "authorship_tag": "ABX9TyNu8CJbjpIWNM8vytI1fXfS",
      "include_colab_link": true
    },
    "kernelspec": {
      "name": "python3",
      "display_name": "Python 3"
    },
    "language_info": {
      "name": "python"
    }
  },
  "cells": [
    {
      "cell_type": "markdown",
      "metadata": {
        "id": "view-in-github",
        "colab_type": "text"
      },
      "source": [
        "<a href=\"https://colab.research.google.com/github/Susanna-Salata/goit-DS/blob/main/GOIT_DS_HomeWork_7_1_1.ipynb\" target=\"_parent\"><img src=\"https://colab.research.google.com/assets/colab-badge.svg\" alt=\"Open In Colab\"/></a>"
      ]
    },
    {
      "cell_type": "code",
      "execution_count": 15,
      "metadata": {
        "id": "xe8eLY9e7Qpj"
      },
      "outputs": [],
      "source": [
        "from sklearn.datasets import load_wine\n",
        "from sklearn.model_selection import train_test_split\n",
        "from sklearn.linear_model import LinearRegression\n",
        "import numpy as np\n",
        "import pandas as pd\n",
        "import matplotlib.pyplot as plt\n",
        "import seaborn as sns\n",
        "%matplotlib inline"
      ]
    },
    {
      "cell_type": "code",
      "source": [
        "wine_dataset = load_wine()"
      ],
      "metadata": {
        "id": "6KalRnO17oPx"
      },
      "execution_count": 2,
      "outputs": []
    },
    {
      "cell_type": "code",
      "source": [
        "X = wine_dataset.data; y = wine_dataset.target\n",
        "X_train, X_test, y_train, y_test = train_test_split(X, y, test_size=0.25)"
      ],
      "metadata": {
        "id": "M0P0aiU572ik"
      },
      "execution_count": 6,
      "outputs": []
    },
    {
      "cell_type": "code",
      "source": [
        "regressor = LinearRegression().fit(X, y)"
      ],
      "metadata": {
        "id": "fTImKaPZ9AR0"
      },
      "execution_count": 8,
      "outputs": []
    },
    {
      "cell_type": "code",
      "source": [
        "y_pred = regressor.predict(X_test)\n",
        "y_pred"
      ],
      "metadata": {
        "colab": {
          "base_uri": "https://localhost:8080/"
        },
        "id": "bvjnmz149IjK",
        "outputId": "22695595-51d8-4cea-ff78-d47f7fae3aa6"
      },
      "execution_count": 14,
      "outputs": [
        {
          "output_type": "execute_result",
          "data": {
            "text/plain": [
              "array([ 1.4545762 , -0.37899527, -0.01030284,  1.87326591,  0.10590583,\n",
              "        1.37135018,  1.26231312,  0.25344433,  0.93350817,  1.74501617,\n",
              "        1.87957509,  1.13945152,  0.73714376,  1.88988121,  0.34827332,\n",
              "        1.21195871,  0.52358075,  0.40573179,  0.23681769,  0.08333864,\n",
              "        2.04560198,  1.57790246,  2.08920563,  2.02409273,  0.02660894,\n",
              "        2.00479427,  0.66191012,  1.41953618,  0.96223839,  1.0073318 ,\n",
              "        1.11789106, -0.04447262,  1.78554001,  1.98770974,  0.57562303,\n",
              "       -0.14530482, -0.43556848,  0.61492044,  0.22479111,  0.55651909,\n",
              "        0.39427315,  0.89750282,  0.73852272,  1.8069568 ,  1.23620092])"
            ]
          },
          "metadata": {},
          "execution_count": 14
        }
      ]
    },
    {
      "cell_type": "code",
      "source": [
        "y_test"
      ],
      "metadata": {
        "colab": {
          "base_uri": "https://localhost:8080/"
        },
        "id": "NiniIkfE9U0A",
        "outputId": "99ed125f-3005-4098-cdaf-9cda6e754a2e"
      },
      "execution_count": 12,
      "outputs": [
        {
          "output_type": "execute_result",
          "data": {
            "text/plain": [
              "array([2, 0, 0, 2, 0, 1, 1, 0, 1, 2, 2, 1, 1, 2, 0, 1, 1, 0, 0, 0, 2, 2,\n",
              "       2, 2, 0, 2, 1, 1, 1, 1, 1, 0, 2, 2, 0, 0, 0, 1, 0, 1, 0, 1, 1, 2,\n",
              "       1])"
            ]
          },
          "metadata": {},
          "execution_count": 12
        }
      ]
    },
    {
      "cell_type": "code",
      "source": [],
      "metadata": {
        "id": "MPf6obf49YQW"
      },
      "execution_count": null,
      "outputs": []
    }
  ]
}
{
  "nbformat": 4,
  "nbformat_minor": 0,
  "metadata": {
    "colab": {
      "provenance": [],
      "authorship_tag": "ABX9TyO1hb6RRAlxuvHW8qL49e+H",
      "include_colab_link": true
    },
    "kernelspec": {
      "name": "python3",
      "display_name": "Python 3"
    },
    "language_info": {
      "name": "python"
    }
  },
  "cells": [
    {
      "cell_type": "markdown",
      "metadata": {
        "id": "view-in-github",
        "colab_type": "text"
      },
      "source": [
        "<a href=\"https://colab.research.google.com/github/Susanna-Salata/goit-DS/blob/main/GOIT_DS_HomeWork_7_1_3.ipynb\" target=\"_parent\"><img src=\"https://colab.research.google.com/assets/colab-badge.svg\" alt=\"Open In Colab\"/></a>"
      ]
    },
    {
      "cell_type": "code",
      "execution_count": 12,
      "metadata": {
        "id": "xe8eLY9e7Qpj"
      },
      "outputs": [],
      "source": [
        "from sklearn.datasets import load_diabetes\n",
        "from sklearn.model_selection import train_test_split\n",
        "from sklearn.linear_model import RidgeClassifier, LinearRegression\n",
        "from sklearn.metrics import mean_squared_error as rmse\n",
        "import numpy as np\n",
        "import pandas as pd\n",
        "import matplotlib.pyplot as plt\n",
        "import seaborn as sns\n",
        "%matplotlib inline"
      ]
    },
    {
      "cell_type": "code",
      "source": [
        "diabetes_dataset = load_diabetes()"
      ],
      "metadata": {
        "id": "6KalRnO17oPx"
      },
      "execution_count": 2,
      "outputs": []
    },
    {
      "cell_type": "code",
      "source": [
        "diabetes_dataset.DESCR"
      ],
      "metadata": {
        "colab": {
          "base_uri": "https://localhost:8080/",
          "height": 109
        },
        "id": "obDIhjZPGG44",
        "outputId": "0720c981-b524-4a54-b9a2-4a0036614e6c"
      },
      "execution_count": 6,
      "outputs": [
        {
          "output_type": "execute_result",
          "data": {
            "text/plain": [
              "'.. _diabetes_dataset:\\n\\nDiabetes dataset\\n----------------\\n\\nTen baseline variables, age, sex, body mass index, average blood\\npressure, and six blood serum measurements were obtained for each of n =\\n442 diabetes patients, as well as the response of interest, a\\nquantitative measure of disease progression one year after baseline.\\n\\n**Data Set Characteristics:**\\n\\n  :Number of Instances: 442\\n\\n  :Number of Attributes: First 10 columns are numeric predictive values\\n\\n  :Target: Column 11 is a quantitative measure of disease progression one year after baseline\\n\\n  :Attribute Information:\\n      - age     age in years\\n      - sex\\n      - bmi     body mass index\\n      - bp      average blood pressure\\n      - s1      tc, total serum cholesterol\\n      - s2      ldl, low-density lipoproteins\\n      - s3      hdl, high-density lipoproteins\\n      - s4      tch, total cholesterol / HDL\\n      - s5      ltg, possibly log of serum triglycerides level\\n      - s6      glu, blood sugar level\\n\\nNote: Each of these 10 feature variables have been mean centered and scaled by the standard deviation times `n_samples` (i.e. the sum of squares of each column totals 1).\\n\\nSource URL:\\nhttps://www4.stat.ncsu.edu/~boos/var.select/diabetes.html\\n\\nFor more information see:\\nBradley Efron, Trevor Hastie, Iain Johnstone and Robert Tibshirani (2004) \"Least Angle Regression,\" Annals of Statistics (with discussion), 407-499.\\n(https://web.stanford.edu/~hastie/Papers/LARS/LeastAngle_2002.pdf)'"
            ],
            "application/vnd.google.colaboratory.intrinsic+json": {
              "type": "string"
            }
          },
          "metadata": {},
          "execution_count": 6
        }
      ]
    },
    {
      "cell_type": "code",
      "source": [
        "X = diabetes_dataset.data; y = diabetes_dataset.target\n",
        "X_train, X_test, y_train, y_test = train_test_split(X, y, test_size=0.30)"
      ],
      "metadata": {
        "id": "M0P0aiU572ik"
      },
      "execution_count": 14,
      "outputs": []
    },
    {
      "cell_type": "code",
      "source": [
        "regressor = LinearRegression().fit(X, y)"
      ],
      "metadata": {
        "id": "fTImKaPZ9AR0"
      },
      "execution_count": 15,
      "outputs": []
    },
    {
      "cell_type": "code",
      "source": [
        "y_pred = regressor.predict(X_test)\n",
        "y_pred"
      ],
      "metadata": {
        "colab": {
          "base_uri": "https://localhost:8080/"
        },
        "id": "bvjnmz149IjK",
        "outputId": "e40d8c87-d5f9-42aa-cad9-5800e52165fc"
      },
      "execution_count": 16,
      "outputs": [
        {
          "output_type": "execute_result",
          "data": {
            "text/plain": [
              "array([ 92.68518048, 251.35898288,  73.91315064, 156.81087903,\n",
              "       146.2806806 , 263.78452618, 191.33759392,  77.8280105 ,\n",
              "       240.07155813, 157.03563376, 214.21749964, 174.79049427,\n",
              "       106.83424483, 194.3950396 , 105.20931175, 189.96141244,\n",
              "       134.18186217,  79.94239571, 116.22255529, 220.67545196,\n",
              "       190.1453107 , 145.63105805, 114.14131338, 150.64502809,\n",
              "       189.17431487,  68.07234761,  58.46850453, 183.50018707,\n",
              "       207.99651918, 169.70207476, 165.3872774 ,  99.5885471 ,\n",
              "        78.37194762,  69.47588393, 206.76300555, 221.0786645 ,\n",
              "        91.20285628, 170.44063216, 189.87368742, 222.48172067,\n",
              "       125.04038427, 245.47433558, 125.27697688, 153.68369915,\n",
              "       155.50813249, 146.27099383,  98.58485669, 144.85567253,\n",
              "       180.12844365, 211.75953205, 187.23572317, 202.4011919 ,\n",
              "       157.72356219, 230.26311068, 100.70869427, 116.58275843,\n",
              "       224.06561179, 254.21769367, 164.54891787, 230.14278537,\n",
              "       196.9141296 ,  52.60848094,  98.75498537, 163.36970989,\n",
              "       104.08562488, 116.18638034, 127.75408702, 124.01702527,\n",
              "       150.50201654, 120.66138775, 164.34167693, 139.54389024,\n",
              "       192.60115666,  77.25091512,  81.80126162, 157.93027543,\n",
              "        80.10834588, 223.08505437, 160.67275473, 268.44988948,\n",
              "       164.32674962, 121.34184881, 124.02443772, 143.05658763,\n",
              "       129.8448476 , 140.02313284,  69.84529943, 140.4174259 ,\n",
              "       274.87431887, 173.24601643, 226.78005938, 197.50578991,\n",
              "       129.83264097, 141.81807792, 128.45984241, 135.67694517,\n",
              "       246.29542114, 203.05474761, 118.85378669, 159.34391027,\n",
              "       216.22213925, 139.1077439 , 147.72187623, 152.75856279,\n",
              "       122.95773416, 111.54358708, 234.91022512,  93.67456315,\n",
              "       119.90114263, 176.88406035, 232.9761832 , 231.29266191,\n",
              "       221.3425256 , 211.8588945 , 210.08517801, 179.47571002,\n",
              "       198.06460718, 254.05718804,  58.3802079 , 146.99720377,\n",
              "       140.15557121, 114.24162642, 235.3011088 ,  74.15703284,\n",
              "       200.44154589, 110.07169487, 192.07094588, 199.69712357,\n",
              "        79.05274311,  72.73252701,  50.85577124, 124.33457266,\n",
              "       133.85292727])"
            ]
          },
          "metadata": {},
          "execution_count": 16
        }
      ]
    },
    {
      "cell_type": "code",
      "source": [
        "y_test"
      ],
      "metadata": {
        "colab": {
          "base_uri": "https://localhost:8080/"
        },
        "id": "NiniIkfE9U0A",
        "outputId": "d04d3fdb-3028-45ef-c1a7-c4dabcd7ba4f"
      },
      "execution_count": 17,
      "outputs": [
        {
          "output_type": "execute_result",
          "data": {
            "text/plain": [
              "array([115., 275.,  48., 109.,  25., 308.,  68.,  92., 259., 113., 279.,\n",
              "        84., 129., 197., 108., 163.,  59.,  98.,  53., 332., 129.,  61.,\n",
              "        88., 302., 229.,  75.,  39., 263., 297., 122., 179.,  81.,  65.,\n",
              "        59., 198., 259.,  91., 235., 142., 155., 162., 274., 191., 252.,\n",
              "       118.,  95.,  49.,  88., 217., 166.,  67., 233., 104., 208.,  94.,\n",
              "        64., 237., 310., 131., 232., 281.,  48.,  72., 178., 170.,  79.,\n",
              "        42., 168., 136.,  78., 245., 230.,  48.,  77.,  55., 209.,  37.,\n",
              "       225., 196., 346., 127.,  71.,  84.,  90.,  67., 219., 158., 187.,\n",
              "       243., 190., 257., 123., 103.,  93., 135., 124., 132., 150.,  63.,\n",
              "       154., 192., 182., 202.,  95., 144.,  69., 275.,  54., 127., 141.,\n",
              "       261., 217., 296., 220., 249., 107., 222., 233.,  85., 214., 146.,\n",
              "        96., 321.,  55., 173.,  97., 202., 293.,  80., 128.,  72.,  97.,\n",
              "        60.])"
            ]
          },
          "metadata": {},
          "execution_count": 17
        }
      ]
    },
    {
      "cell_type": "code",
      "source": [
        "rmse(y_pred=y_pred, y_true=y_test)"
      ],
      "metadata": {
        "id": "MPf6obf49YQW",
        "colab": {
          "base_uri": "https://localhost:8080/"
        },
        "outputId": "935ed622-7fbb-4a62-b160-40c37d9c73f8"
      },
      "execution_count": 18,
      "outputs": [
        {
          "output_type": "execute_result",
          "data": {
            "text/plain": [
              "2935.3307936152046"
            ]
          },
          "metadata": {},
          "execution_count": 18
        }
      ]
    },
    {
      "cell_type": "code",
      "source": [],
      "metadata": {
        "id": "-JHKKa-VHAvA"
      },
      "execution_count": null,
      "outputs": []
    }
  ]
}
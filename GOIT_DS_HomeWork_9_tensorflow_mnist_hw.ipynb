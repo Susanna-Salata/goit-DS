{
  "nbformat": 4,
  "nbformat_minor": 0,
  "metadata": {
    "kernelspec": {
      "display_name": "Python 3",
      "language": "python",
      "name": "python3"
    },
    "language_info": {
      "codemirror_mode": {
        "name": "ipython",
        "version": 3
      },
      "file_extension": ".py",
      "mimetype": "text/x-python",
      "name": "python",
      "nbconvert_exporter": "python",
      "pygments_lexer": "ipython3",
      "version": "3.8.0"
    },
    "colab": {
      "provenance": [],
      "include_colab_link": true
    },
    "accelerator": "GPU"
  },
  "cells": [
    {
      "cell_type": "markdown",
      "metadata": {
        "id": "view-in-github",
        "colab_type": "text"
      },
      "source": [
        "<a href=\"https://colab.research.google.com/github/Susanna-Salata/goit-DS/blob/main/GOIT_DS_HomeWork_9_tensorflow_mnist_hw.ipynb\" target=\"_parent\"><img src=\"https://colab.research.google.com/assets/colab-badge.svg\" alt=\"Open In Colab\"/></a>"
      ]
    },
    {
      "cell_type": "markdown",
      "metadata": {
        "id": "b0Yf4NBJUSNM"
      },
      "source": [
        "# Создание нейронной сети\n",
        "\n",
        "В этом задании мы создадим полносвязную нейронную сеть используя при этом низкоуровневые механизмы tensorflow.\n",
        "\n",
        "Архитектутра нейросети представлена на следующем рисунке. Как видите, в ней имеется один входной слой, два скрытых, а так же выходной слой. В качестве активационной функции в скрытых слоях будет использоваться сигмоида. На выходном слое мы используем softmax.\n",
        "\n",
        "Часть кода по созданию сети уже написана, от вас требуется заполнить пропуски в указанных местах."
      ]
    },
    {
      "cell_type": "markdown",
      "metadata": {
        "id": "01rZWUu0USNQ"
      },
      "source": [
        "## Архитектура нейронной сети\n",
        "\n",
        "<img src=\"http://cs231n.github.io/assets/nn1/neural_net2.jpeg\" alt=\"nn\" style=\"width: 400px;\"/>\n"
      ]
    },
    {
      "cell_type": "markdown",
      "metadata": {
        "id": "LLvIZ705Qw_V"
      },
      "source": [
        "## О датасете MNIST\n",
        "\n",
        "Данную нейросеть мы будем обучать на датасете MNIST. Этот датасет представляет собой большое количество изображений рукописных цифр размером $28 \\times 28$ пикселей. Каждый пиксель принимает значение от 0 до 255.\n",
        "\n",
        "Как и раньше датасет будет разеделен на обучающую и тестовую выборки. При этом мы выполним нормализацию всех изображений, чтобы значения пикселей находились в промежутке от 0 до 1, разделив яркость каждого пикселя на 255.\n",
        "\n",
        "Кроме того, архитектура нейронной сети ожидает на вход вектор. В нашем же случае каждый объект выборки представляет собой матрицу. Что же делать? В этом задании мы \"растянем\" матрицу $28 \\times 28$, получив при этом вектор, состоящей из 784 элементов.\n",
        "\n",
        "![MNIST Dataset](https://www.researchgate.net/profile/Steven-Young-5/publication/306056875/figure/fig1/AS:393921575309346@1470929630835/Example-images-from-the-MNIST-dataset.png)\n",
        "\n",
        "Больше информации о датасете можно найти [здесь](http://yann.lecun.com/exdb/mnist/)."
      ]
    },
    {
      "cell_type": "code",
      "metadata": {
        "id": "il_0_5OyUSNR"
      },
      "source": [
        "import tensorflow as tf\n",
        "import keras.backend as K\n",
        "import numpy as np\n",
        "import matplotlib.pyplot as plt\n",
        "%matplotlib inline"
      ],
      "execution_count": 36,
      "outputs": []
    },
    {
      "cell_type": "code",
      "metadata": {
        "id": "cd-1_abTUSNS"
      },
      "source": [
        "num_classes = 10 # общее количество классов, в нашем случае это цифры от 0 до 9\n",
        "num_features = 784 # количество атрибутов входного вектора 28 * 28 = 784\n",
        "\n",
        "learning_rate = 0.001 # скорость обучения нейронной сети\n",
        "training_steps = 3000 # максимальное число эпох\n",
        "batch_size = 256 # пересчитывать веса сети мы будем не на всей выборке, а на ее случайном подможестве из batch_size элементов\n",
        "display_step = 100 # каждые 100 итераций мы будем показывать текущее значение функции потерь и точности\n",
        "\n",
        "n_hidden_1 = 128 # количество нейронов 1-го слоя\n",
        "n_hidden_2 = 256 # количество нейронов 2-го слоя"
      ],
      "execution_count": 2,
      "outputs": []
    },
    {
      "cell_type": "code",
      "metadata": {
        "id": "pGTXiRyTUSNT"
      },
      "source": [
        "from tensorflow.keras.datasets import mnist\n",
        "\n",
        "# Загружаем датасет\n",
        "(x_train, y_train), (x_test, y_test) = mnist.load_data()\n",
        "\n",
        "# Преобразуем целочисленные пиксели к типа float32\n",
        "x_train, x_test = np.array(x_train, np.float32), np.array(x_test, np.float32)\n",
        "\n",
        "# Преобразуем матрицы размером 28x28 пикселей в вектор из 784 элементов\n",
        "x_train, x_test = x_train.reshape([-1, num_features]), x_test.reshape([-1, num_features])\n",
        "\n",
        "# Нормализуем значения пикселей\n",
        "x_train, x_test = x_train / 255., x_test / 255.\n",
        "\n",
        "# Перемешаем тренировочные данные\n",
        "train_data = tf.data.Dataset.from_tensor_slices((x_train, y_train))\n",
        "train_data = train_data.repeat().shuffle(5000).batch(batch_size).prefetch(1)"
      ],
      "execution_count": 45,
      "outputs": []
    },
    {
      "cell_type": "code",
      "metadata": {
        "id": "FkRmCQjnUSNV"
      },
      "source": [
        "# Создадим нейронную сеть\n",
        "\n",
        "class DenseLayer(tf.Module):\n",
        "    def __init__(self, in_features, out_features, name=None):\n",
        "        super().__init__(name=name)\n",
        "        # Место для вашего кода\n",
        "        self.w = tf.Variable(tf.random.normal([in_features, out_features]), name=\"w\")\n",
        "        self.b = tf.Variable(tf.zeros([out_features]), name=\"b\")\n",
        "\n",
        "    def __call__(self, x):\n",
        "        # Место для вашего кода\n",
        "        y = tf.matmul(x, self.w) + self.b\n",
        "        return tf.nn.relu(y)\n",
        "\n",
        "\n",
        "class NN(tf.Module):\n",
        "  def __init__(self, name=None):\n",
        "    super().__init__(name=name)\n",
        "    # Первый слой, состоящий из 128 нейронов\n",
        "    # Место для вашего кода\n",
        "    self.layer_1 = DenseLayer(in_features=num_features, out_features=n_hidden_1)\n",
        "\n",
        "    # Второй слой, состоящий из 256 нейронов\n",
        "    # Место для вашего кода\n",
        "    self.layer_2 = DenseLayer(in_features=n_hidden_1, out_features=n_hidden_2)\n",
        "\n",
        "    # Выходной слой\n",
        "    # Место для вашего кода\n",
        "    self.layer_out = DenseLayer(in_features=n_hidden_2, out_features=num_classes)\n",
        "    self.w = tf.Variable(tf.ones([num_features,\n",
        "                                  n_hidden_1, \n",
        "                                  n_hidden_2, \n",
        "                                  num_classes]),name='weight')\n",
        "    self.b = tf.Variable(tf.zeros([num_classes]),name='bias')\n",
        "\n",
        "  def __call__(self, x):\n",
        "    # Место для вашего кода\n",
        "    x = self.layer_1(x)\n",
        "    x = self.layer_2(x)\n",
        "    x = self.layer_out(x)\n",
        "\n",
        "    # Помните что для выхода нейронной сети мы применяем к выходу функцию softmax. \n",
        "    # Делаем мы это для того, чтобы\n",
        "    # выход нейронной сети принимал значения от 0 до 1 в соответствии с вероятностью \n",
        "    # принадлежности входного объекта к одному из 10 классов\n",
        "\n",
        "    return tf.nn.softmax(x)\n",
        "\n"
      ],
      "execution_count": 50,
      "outputs": []
    },
    {
      "cell_type": "code",
      "metadata": {
        "id": "LIf3o7VAUSNV"
      },
      "source": [
        "# В качестве функции ошибки в данном случае удобно взять кросс-энтропию\n",
        "def cross_entropy(y_pred, y_true):\n",
        "    # Encode label to a one hot vector.\n",
        "    y_true = tf.one_hot(y_true, depth=num_classes)\n",
        "\n",
        "    # Clip prediction values to avoid log(0) error.\n",
        "    y_pred = tf.clip_by_value(y_pred, 1e-9, 1.)\n",
        "\n",
        "    # Вычисление кросс-энтропии\n",
        "    return tf.reduce_mean(-tf.reduce_sum(y_true * tf.math.log(y_pred)))\n",
        "\n",
        "# В качестве метрики качества используем точность\n",
        "def accuracy(y_pred, y_true):\n",
        "    # Место для вашего кода\n",
        "    tp = K.sum(K.round(K.clip(y_true * y_pred, 0, 1)), axis=1)\n",
        "    tn = K.sum(K.round(K.clip((1 - y_true) * (1 - y_pred), 0, 1)))\n",
        "    all = K.int_shape(y_true)[1]\n",
        "    \n",
        "    accuracy = (tp + tn) / (all + K.epsilon())\n",
        "    return accuracy"
      ],
      "execution_count": 51,
      "outputs": []
    },
    {
      "cell_type": "code",
      "metadata": {
        "id": "MQeT1yatUSNW"
      },
      "source": [
        "# Создадим экзампляр нейронной сети\n",
        "neural_net = NN(name=\"mnist\")\n",
        "\n",
        "# Функция обучения нейросети\n",
        "def train(nn, input_x, output_y):\n",
        "  # Для подгонки весов сети будем использовать стохастический градиентный спуск\n",
        "  optimizer = tf.optimizers.SGD(learning_rate)\n",
        "\n",
        "  # Активация автоматического дифференцирования\n",
        "  with tf.GradientTape() as g:\n",
        "    pred = neural_net(input_x)\n",
        "    loss = cross_entropy(pred, output_y)\n",
        "        \n",
        "    # Создадим оптимизируемых список параметров\n",
        "    # Место для вашего кода\n",
        "    gradients = g.gradient(loss,[nn.w,nn.b])\n",
        "    dw, db  = gradients\n",
        "\n",
        "    # Вычислим по ним значение градиента\n",
        "    # Место для вашего кода\n",
        "    optimizer.apply_gradients(zip(gradients,[nn.w, nn.b]))\n",
        "    \n",
        "    # Модифицируем параметры\n",
        "    # Место для вашего кода\n",
        "    nn.w.assign_sub(learning_rate * dw)\n",
        "    nn.b.assign_sub(learning_rate * db)"
      ],
      "execution_count": 52,
      "outputs": []
    },
    {
      "cell_type": "code",
      "metadata": {
        "id": "fnyns9lBfpQZ",
        "colab": {
          "base_uri": "https://localhost:8080/",
          "height": 1000
        },
        "outputId": "ef711f68-2318-4e0c-80d6-2054e0c0b6f6"
      },
      "source": [
        "# Тренировка сети\n",
        "\n",
        "loss_history = []  # каждые display_step шагов сохраняйте в этом список текущую ошибку нейросети\n",
        "accuracy_history = [] # каждые display_step шагов сохраняйте в этом список текущую точность нейросети\n",
        "\n",
        "# В этом цикле мы будем производить обучение нейронной сети\n",
        "# из тренировочного датасета train_data извлеките случайное подмножество, на котором \n",
        "# произведется тренировка. Используйте метод take, доступный для тренировочного датасета.\n",
        "for step, (batch_x, batch_y) in enumerate(train_data.take(training_steps),1):# Место для вашего кода: \n",
        "\n",
        "    # Обновляем веса нейронной сети\n",
        "    # Место для вашего кода\n",
        "    train(neural_net, batch_x, batch_y)\n",
        "    \n",
        "    if step % display_step == 0:\n",
        "        pred = neural_net(batch_x)\n",
        "\n",
        "        # Место для вашего кода\n",
        "        loss = cross_entropy(pred, batch_y)\n",
        "        loss_history += [loss]\n",
        "        acc = accuracy(pred, batch_y)\n",
        "        accuracy_history += [acc]\n",
        "        print(\"step: %i, loss: %f, accuracy: %f\" % (step, loss, acc))"
      ],
      "execution_count": 53,
      "outputs": [
        {
          "output_type": "error",
          "ename": "ValueError",
          "evalue": "ignored",
          "traceback": [
            "\u001b[0;31m---------------------------------------------------------------------------\u001b[0m",
            "\u001b[0;31mValueError\u001b[0m                                Traceback (most recent call last)",
            "\u001b[0;32m<ipython-input-53-89924fd29bc2>\u001b[0m in \u001b[0;36m<module>\u001b[0;34m\u001b[0m\n\u001b[1;32m     11\u001b[0m     \u001b[0;31m# Обновляем веса нейронной сети\u001b[0m\u001b[0;34m\u001b[0m\u001b[0;34m\u001b[0m\u001b[0;34m\u001b[0m\u001b[0m\n\u001b[1;32m     12\u001b[0m     \u001b[0;31m# Место для вашего кода\u001b[0m\u001b[0;34m\u001b[0m\u001b[0;34m\u001b[0m\u001b[0;34m\u001b[0m\u001b[0m\n\u001b[0;32m---> 13\u001b[0;31m     \u001b[0mtrain\u001b[0m\u001b[0;34m(\u001b[0m\u001b[0mneural_net\u001b[0m\u001b[0;34m,\u001b[0m \u001b[0mbatch_x\u001b[0m\u001b[0;34m,\u001b[0m \u001b[0mbatch_y\u001b[0m\u001b[0;34m)\u001b[0m\u001b[0;34m\u001b[0m\u001b[0;34m\u001b[0m\u001b[0m\n\u001b[0m\u001b[1;32m     14\u001b[0m \u001b[0;34m\u001b[0m\u001b[0m\n\u001b[1;32m     15\u001b[0m     \u001b[0;32mif\u001b[0m \u001b[0mstep\u001b[0m \u001b[0;34m%\u001b[0m \u001b[0mdisplay_step\u001b[0m \u001b[0;34m==\u001b[0m \u001b[0;36m0\u001b[0m\u001b[0;34m:\u001b[0m\u001b[0;34m\u001b[0m\u001b[0;34m\u001b[0m\u001b[0m\n",
            "\u001b[0;32m<ipython-input-52-ca45340ef4a9>\u001b[0m in \u001b[0;36mtrain\u001b[0;34m(nn, input_x, output_y)\u001b[0m\n\u001b[1;32m     19\u001b[0m     \u001b[0;31m# Вычислим по ним значение градиента\u001b[0m\u001b[0;34m\u001b[0m\u001b[0;34m\u001b[0m\u001b[0;34m\u001b[0m\u001b[0m\n\u001b[1;32m     20\u001b[0m     \u001b[0;31m# Место для вашего кода\u001b[0m\u001b[0;34m\u001b[0m\u001b[0;34m\u001b[0m\u001b[0;34m\u001b[0m\u001b[0m\n\u001b[0;32m---> 21\u001b[0;31m     \u001b[0moptimizer\u001b[0m\u001b[0;34m.\u001b[0m\u001b[0mapply_gradients\u001b[0m\u001b[0;34m(\u001b[0m\u001b[0mzip\u001b[0m\u001b[0;34m(\u001b[0m\u001b[0mgradients\u001b[0m\u001b[0;34m,\u001b[0m\u001b[0;34m[\u001b[0m\u001b[0mnn\u001b[0m\u001b[0;34m.\u001b[0m\u001b[0mw\u001b[0m\u001b[0;34m,\u001b[0m \u001b[0mnn\u001b[0m\u001b[0;34m.\u001b[0m\u001b[0mb\u001b[0m\u001b[0;34m]\u001b[0m\u001b[0;34m)\u001b[0m\u001b[0;34m)\u001b[0m\u001b[0;34m\u001b[0m\u001b[0;34m\u001b[0m\u001b[0m\n\u001b[0m\u001b[1;32m     22\u001b[0m \u001b[0;34m\u001b[0m\u001b[0m\n\u001b[1;32m     23\u001b[0m     \u001b[0;31m# Модифицируем параметры\u001b[0m\u001b[0;34m\u001b[0m\u001b[0;34m\u001b[0m\u001b[0;34m\u001b[0m\u001b[0m\n",
            "\u001b[0;32m/usr/local/lib/python3.7/dist-packages/keras/optimizers/optimizer_v2/optimizer_v2.py\u001b[0m in \u001b[0;36mapply_gradients\u001b[0;34m(self, grads_and_vars, name, experimental_aggregate_gradients)\u001b[0m\n\u001b[1;32m    638\u001b[0m       \u001b[0mRuntimeError\u001b[0m\u001b[0;34m:\u001b[0m \u001b[0mIf\u001b[0m \u001b[0mcalled\u001b[0m \u001b[0;32min\u001b[0m \u001b[0ma\u001b[0m \u001b[0mcross\u001b[0m\u001b[0;34m-\u001b[0m\u001b[0mreplica\u001b[0m \u001b[0mcontext\u001b[0m\u001b[0;34m.\u001b[0m\u001b[0;34m\u001b[0m\u001b[0;34m\u001b[0m\u001b[0m\n\u001b[1;32m    639\u001b[0m     \"\"\"\n\u001b[0;32m--> 640\u001b[0;31m     \u001b[0mgrads_and_vars\u001b[0m \u001b[0;34m=\u001b[0m \u001b[0moptimizer_utils\u001b[0m\u001b[0;34m.\u001b[0m\u001b[0mfilter_empty_gradients\u001b[0m\u001b[0;34m(\u001b[0m\u001b[0mgrads_and_vars\u001b[0m\u001b[0;34m)\u001b[0m\u001b[0;34m\u001b[0m\u001b[0;34m\u001b[0m\u001b[0m\n\u001b[0m\u001b[1;32m    641\u001b[0m     \u001b[0mvar_list\u001b[0m \u001b[0;34m=\u001b[0m \u001b[0;34m[\u001b[0m\u001b[0mv\u001b[0m \u001b[0;32mfor\u001b[0m \u001b[0;34m(\u001b[0m\u001b[0m_\u001b[0m\u001b[0;34m,\u001b[0m \u001b[0mv\u001b[0m\u001b[0;34m)\u001b[0m \u001b[0;32min\u001b[0m \u001b[0mgrads_and_vars\u001b[0m\u001b[0;34m]\u001b[0m\u001b[0;34m\u001b[0m\u001b[0;34m\u001b[0m\u001b[0m\n\u001b[1;32m    642\u001b[0m \u001b[0;34m\u001b[0m\u001b[0m\n",
            "\u001b[0;32m/usr/local/lib/python3.7/dist-packages/keras/optimizers/optimizer_v2/utils.py\u001b[0m in \u001b[0;36mfilter_empty_gradients\u001b[0;34m(grads_and_vars)\u001b[0m\n\u001b[1;32m     71\u001b[0m   \u001b[0;32mif\u001b[0m \u001b[0;32mnot\u001b[0m \u001b[0mfiltered\u001b[0m\u001b[0;34m:\u001b[0m\u001b[0;34m\u001b[0m\u001b[0;34m\u001b[0m\u001b[0m\n\u001b[1;32m     72\u001b[0m     \u001b[0mvariable\u001b[0m \u001b[0;34m=\u001b[0m \u001b[0;34m(\u001b[0m\u001b[0;34m[\u001b[0m\u001b[0mv\u001b[0m\u001b[0;34m.\u001b[0m\u001b[0mname\u001b[0m \u001b[0;32mfor\u001b[0m \u001b[0m_\u001b[0m\u001b[0;34m,\u001b[0m \u001b[0mv\u001b[0m \u001b[0;32min\u001b[0m \u001b[0mgrads_and_vars\u001b[0m\u001b[0;34m]\u001b[0m\u001b[0;34m,\u001b[0m\u001b[0;34m)\u001b[0m\u001b[0;34m\u001b[0m\u001b[0;34m\u001b[0m\u001b[0m\n\u001b[0;32m---> 73\u001b[0;31m     raise ValueError(f\"No gradients provided for any variable: {variable}. \"\n\u001b[0m\u001b[1;32m     74\u001b[0m                      f\"Provided `grads_and_vars` is {grads_and_vars}.\")\n\u001b[1;32m     75\u001b[0m   \u001b[0;32mif\u001b[0m \u001b[0mvars_with_empty_grads\u001b[0m\u001b[0;34m:\u001b[0m\u001b[0;34m\u001b[0m\u001b[0;34m\u001b[0m\u001b[0m\n",
            "\u001b[0;31mValueError\u001b[0m: No gradients provided for any variable: (['weight:0', 'bias:0'],). Provided `grads_and_vars` is ((None, <tf.Variable 'weight:0' shape=(784, 128, 256, 10) dtype=float32, numpy=\narray([[[[1., 1., 1., ..., 1., 1., 1.],\n         [1., 1., 1., ..., 1., 1., 1.],\n         [1., 1., 1., ..., 1., 1., 1.],\n         ...,\n         [1., 1., 1., ..., 1., 1., 1.],\n         [1., 1., 1., ..., 1., 1., 1.],\n         [1., 1., 1., ..., 1., 1., 1.]],\n\n        [[1., 1., 1., ..., 1., 1., 1.],\n         [1., 1., 1., ..., 1., 1., 1.],\n         [1., 1., 1., ..., 1., 1., 1.],\n         ...,\n         [1., 1., 1., ..., 1., 1., 1.],\n         [1., 1., 1., ..., 1., 1., 1.],\n         [1., 1., 1., ..., 1., 1., 1.]],\n\n        [[1., 1., 1., ..., 1., 1., 1.],\n         [1., 1., 1., ..., 1., 1., 1.],\n         [1., 1., 1., ..., 1., 1., 1.],\n         ...,\n         [1., 1., 1., ..., 1., 1., 1.],\n         [1., 1., 1., ..., 1., 1., 1.],\n         [1., 1., 1., ..., 1., 1., 1.]],\n\n        ...,\n\n        [[1., 1., 1., ..., 1., 1., 1.],\n         [1., 1., 1., ..., 1., 1., 1.],\n         [1., 1., 1., ..., 1., 1., 1.],\n         ...,\n         [1., 1., 1., ..., 1., 1., 1.],\n         [1., 1., 1., ..., 1., 1., 1.],\n         [1., 1., 1., ..., 1., 1., 1.]],\n\n        [[1., 1., 1., ..., 1., 1., 1.],\n         [1., 1., 1., ..., 1., 1., 1.],\n         [1., 1., 1., ..., 1., 1., 1.],\n         ...,\n         [1., 1., 1., ..., 1., 1., 1.],\n         [1., 1., 1., ..., 1., 1., 1.],\n         [1., 1., 1., ..., 1., 1., 1.]],\n\n        [[1., 1., 1., ..., 1., 1., 1.],\n         [1., 1., 1., ..., 1., 1., 1.],\n         [1., 1., 1., ..., 1., 1., 1.],\n         ...,\n         [1., 1., 1., ..., 1., 1., 1.],\n         [1., 1., 1., ..., 1., 1., 1.],\n         [1., 1., 1., ..., 1., 1., 1.]]],\n\n\n       [[[1., 1., 1., ..., 1., 1., 1.],\n         [1., 1., 1., ..., 1., 1., 1.],\n         [1., 1., 1., ..., 1., 1., 1.],\n         ...,\n         [1., 1., 1., ..., 1., 1., 1.],\n         [1., 1., 1., ..., 1., 1., 1.],\n         [1., 1., 1., ..., 1., 1., 1.]],\n\n        [[1., 1., 1., ..., 1., 1., 1.],\n         [1., 1., 1., ..., 1., 1., 1.],\n         [1., 1., 1., ..., 1., 1., 1.],\n         ...,\n         [1., 1., 1., ..., 1., 1., 1.],\n         [1., 1., 1., ..., 1., 1., 1.],\n         [1., 1., 1., ..., 1., 1., 1.]],\n\n        [[1., 1., 1., ..., 1., 1., 1.],\n         [1., 1., 1., ..., 1., 1., 1.],\n         [1., 1., 1., ..., 1., 1., 1.],\n         ...,\n         [1., 1., 1., ..., 1., 1., 1.],\n         [1., 1., 1., ..., 1., 1., 1.],\n         [1., 1., 1., ..., 1., 1., 1.]],\n\n        ...,\n\n        [[1., 1., 1., ..., 1., 1., 1.],\n         [1., 1., 1., ..., 1., 1., 1.],\n         [1., 1., 1., ..., 1., 1., 1.],\n         ...,\n         [1., 1., 1., ..., 1., 1., 1.],\n         [1., 1., 1., ..., 1., 1., 1.],\n         [1., 1., 1., ..., 1., 1., 1.]],\n\n        [[1., 1., 1., ..., 1., 1., 1.],\n         [1., 1., 1., ..., 1., 1., 1.],\n         [1., 1., 1., ..., 1., 1., 1.],\n         ...,\n         [1., 1., 1., ..., 1., 1., 1.],\n         [1., 1., 1., ..., 1., 1., 1.],\n         [1., 1., 1., ..., 1., 1., 1.]],\n\n        [[1., 1., 1., ..., 1., 1., 1.],\n         [1., 1., 1., ..., 1., 1., 1.],\n         [1., 1., 1., ..., 1., 1., 1.],\n         ...,\n         [1., 1., 1., ..., 1., 1., 1.],\n         [1., 1., 1., ..., 1., 1., 1.],\n         [1., 1., 1., ..., 1., 1., 1.]]],\n\n\n       [[[1., 1., 1., ..., 1., 1., 1.],\n         [1., 1., 1., ..., 1., 1., 1.],\n         [1., 1., 1., ..., 1., 1., 1.],\n         ...,\n         [1., 1., 1., ..., 1., 1., 1.],\n         [1., 1., 1., ..., 1., 1., 1.],\n         [1., 1., 1., ..., 1., 1., 1.]],\n\n        [[1., 1., 1., ..., 1., 1., 1.],\n         [1., 1., 1., ..., 1., 1., 1.],\n         [1., 1., 1., ..., 1., 1., 1.],\n         ...,\n         [1., 1., 1., ..., 1., 1., 1.],\n         [1., 1., 1., ..., 1., 1., 1.],\n         [1., 1., 1., ..., 1., 1., 1.]],\n\n        [[1., 1., 1., ..., 1., 1., 1.],\n         [1., 1., 1., ..., 1., 1., 1.],\n         [1., 1., 1., ..., 1., 1., 1.],\n         ...,\n         [1., 1., 1., ..., 1., 1., 1.],\n         [1., 1., 1., ..., 1., 1., 1.],\n         [1., 1., 1., ..., 1., 1., 1.]],\n\n        ...,\n\n        [[1., 1., 1., ..., 1., 1., 1.],\n         [1., 1., 1., ..., 1., 1., 1.],\n         [1., 1., 1., ..., 1., 1., 1.],\n         ...,\n         [1., 1., 1., ..., 1., 1., 1.],\n         [1., 1., 1., ..., 1., 1., 1.],\n         [1., 1., 1., ..., 1., 1., 1.]],\n\n        [[1., 1., 1., ..., 1., 1., 1.],\n         [1., 1., 1., ..., 1., 1., 1.],\n         [1., 1., 1., ..., 1., 1., 1.],\n         ...,\n         [1., 1., 1., ..., 1., 1., 1.],\n         [1., 1., 1., ..., 1., 1., 1.],\n         [1., 1., 1., ..., 1., 1., 1.]],\n\n        [[1., 1., 1., ..., 1., 1., 1.],\n         [1., 1., 1., ..., 1., 1., 1.],\n         [1., 1., 1., ..., 1., 1., 1.],\n         ...,\n         [1., 1., 1., ..., 1., 1., 1.],\n         [1., 1., 1., ..., 1., 1., 1.],\n         [1., 1., 1., ..., 1., 1., 1.]]],\n\n\n       ...,\n\n\n       [[[1., 1., 1., ..., 1., 1., 1.],\n         [1., 1., 1., ..., 1., 1., 1.],\n         [1., 1., 1., ..., 1., 1., 1.],\n         ...,\n         [1., 1., 1., ..., 1., 1., 1.],\n         [1., 1., 1., ..., 1., 1., 1.],\n         [1., 1., 1., ..., 1., 1., 1.]],\n\n        [[1., 1., 1., ..., 1., 1., 1.],\n         [1., 1., 1., ..., 1., 1., 1.],\n         [1., 1., 1., ..., 1., 1., 1.],\n         ...,\n         [1., 1., 1., ..., 1., 1., 1.],\n         [1., 1., 1., ..., 1., 1., 1.],\n         [1., 1., 1., ..., 1., 1., 1.]],\n\n        [[1., 1., 1., ..., 1., 1., 1.],\n         [1., 1., 1., ..., 1., 1., 1.],\n         [1., 1., 1., ..., 1., 1., 1.],\n         ...,\n         [1., 1., 1., ..., 1., 1., 1.],\n         [1., 1., 1., ..., 1., 1., 1.],\n         [1., 1., 1., ..., 1., 1., 1.]],\n\n        ...,\n\n        [[1., 1., 1., ..., 1., 1., 1.],\n         [1., 1., 1., ..., 1., 1., 1.],\n         [1., 1., 1., ..., 1., 1., 1.],\n         ...,\n         [1., 1., 1., ..., 1., 1., 1.],\n         [1., 1., 1., ..., 1., 1., 1.],\n         [1., 1., 1., ..., 1., 1., 1.]],\n\n        [[1., 1., 1., ..., 1., 1., 1.],\n         [1., 1., 1., ..., 1., 1., 1.],\n         [1., 1., 1., ..., 1., 1., 1.],\n         ...,\n         [1., 1., 1., ..., 1., 1., 1.],\n         [1., 1., 1., ..., 1., 1., 1.],\n         [1., 1., 1., ..., 1., 1., 1.]],\n\n        [[1., 1., 1., ..., 1., 1., 1.],\n         [1., 1., 1., ..., 1., 1., 1.],\n         [1., 1., 1., ..., 1., 1., 1.],\n         ...,\n         [1., 1., 1., ..., 1., 1., 1.],\n         [1., 1., 1., ..., 1., 1., 1.],\n         [1., 1., 1., ..., 1., 1., 1.]]],\n\n\n       [[[1., 1., 1., ..., 1., 1., 1.],\n         [1., 1., 1., ..., 1., 1., 1.],\n         [1., 1., 1., ..., 1., 1., 1.],\n         ...,\n         [1., 1., 1., ..., 1., 1., 1.],\n         [1., 1., 1., ..., 1., 1., 1.],\n         [1., 1., 1., ..., 1., 1., 1.]],\n\n        [[1., 1., 1., ..., 1., 1., 1.],\n         [1., 1., 1., ..., 1., 1., 1.],\n         [1., 1., 1., ..., 1., 1., 1.],\n         ...,\n         [1., 1., 1., ..., 1., 1., 1.],\n         [1., 1., 1., ..., 1., 1., 1.],\n         [1., 1., 1., ..., 1., 1., 1.]],\n\n        [[1., 1., 1., ..., 1., 1., 1.],\n         [1., 1., 1., ..., 1., 1., 1.],\n         [1., 1., 1., ..., 1., 1., 1.],\n         ...,\n         [1., 1., 1., ..., 1., 1., 1.],\n         [1., 1., 1., ..., 1., 1., 1.],\n         [1., 1., 1., ..., 1., 1., 1.]],\n\n        ...,\n\n        [[1., 1., 1., ..., 1., 1., 1.],\n         [1., 1., 1., ..., 1., 1., 1.],\n         [1., 1., 1., ..., 1., 1., 1.],\n         ...,\n         [1., 1., 1., ..., 1., 1., 1.],\n         [1., 1., 1., ..., 1., 1., 1.],\n         [1., 1., 1., ..., 1., 1., 1.]],\n\n        [[1., 1., 1., ..., 1., 1., 1.],\n         [1., 1., 1., ..., 1., 1., 1.],\n         [1., 1., 1., ..., 1., 1., 1.],\n         ...,\n         [1., 1., 1., ..., 1., 1., 1.],\n         [1., 1., 1., ..., 1., 1., 1.],\n         [1., 1., 1., ..., 1., 1., 1.]],\n\n        [[1., 1., 1., ..., 1., 1., 1.],\n         [1., 1., 1., ..., 1., 1., 1.],\n         [1., 1., 1., ..., 1., 1., 1.],\n         ...,\n         [1., 1., 1., ..., 1., 1., 1.],\n         [1., 1., 1., ..., 1., 1., 1.],\n         [1., 1., 1., ..., 1., 1., 1.]]],\n\n\n       [[[1., 1., 1., ..., 1., 1., 1.],\n         [1., 1., 1., ..., 1., 1., 1.],\n         [1., 1., 1., ..., 1., 1., 1.],\n         ...,\n         [1., 1., 1., ..., 1., 1., 1.],\n         [1., 1., 1., ..., 1., 1., 1.],\n         [1., 1., 1., ..., 1., 1., 1.]],\n\n        [[1., 1., 1., ..., 1., 1., 1.],\n         [1., 1., 1., ..., 1., 1., 1.],\n         [1., 1., 1., ..., 1., 1., 1.],\n         ...,\n         [1., 1., 1., ..., 1., 1., 1.],\n         [1., 1., 1., ..., 1., 1., 1.],\n         [1., 1., 1., ..., 1., 1., 1.]],\n\n        [[1., 1., 1., ..., 1., 1., 1.],\n         [1., 1., 1., ..., 1., 1., 1.],\n         [1., 1., 1., ..., 1., 1., 1.],\n         ...,\n         [1., 1., 1., ..., 1., 1., 1.],\n         [1., 1., 1., ..., 1., 1., 1.],\n         [1., 1., 1., ..., 1., 1., 1.]],\n\n        ...,\n\n        [[1., 1., 1., ..., 1., 1., 1.],\n         [1., 1., 1., ..., 1., 1., 1.],\n         [1., 1., 1., ..., 1., 1., 1.],\n         ...,\n         [1., 1., 1., ..., 1., 1., 1.],\n         [1., 1., 1., ..., 1., 1., 1.],\n         [1., 1., 1., ..., 1., 1., 1.]],\n\n        [[1., 1., 1., ..., 1., 1., 1.],\n         [1., 1., 1., ..., 1., 1., 1.],\n         [1., 1., 1., ..., 1., 1., 1.],\n         ...,\n         [1., 1., 1., ..., 1., 1., 1.],\n         [1., 1., 1., ..., 1., 1., 1.],\n         [1., 1., 1., ..., 1., 1., 1.]],\n\n        [[1., 1., 1., ..., 1., 1., 1.],\n         [1., 1., 1., ..., 1., 1., 1.],\n         [1., 1., 1., ..., 1., 1., 1.],\n         ...,\n         [1., 1., 1., ..., 1., 1., 1.],\n         [1., 1., 1., ..., 1., 1., 1.],\n         [1., 1., 1., ..., 1., 1., 1.]]]], dtype=float32)>), (None, <tf.Variable 'bias:0' shape=(10,) dtype=float32, numpy=array([0., 0., 0., 0., 0., 0., 0., 0., 0., 0.], dtype=float32)>))."
          ]
        }
      ]
    },
    {
      "cell_type": "code",
      "metadata": {
        "id": "_yCBfG6MbQB2"
      },
      "source": [
        "# Выведите графики зависимости изменения точности и потерь от шага\n",
        "# Если все сделано правильно, то точность должна расти, а потери уменьшаться\n",
        "\n",
        "# Место для вашего кода\n",
        "for i in range(len(loss_history)):\n",
        "    # plot loss\n",
        "    plt.subplot(2, 1, 1)\n",
        "    plt.title('Cross Entropy Loss')\n",
        "    plt.plot(loss_history[i], color='blue', label='train')\n",
        "    plt.plot(loss_history[i], color='orange', label='test')\n",
        "    # plot accuracy\n",
        "    plt.subplot(2, 1, 2)\n",
        "    plt.title('Classification Accuracy')\n",
        "    plt.plot(accuracy_history[i], color='blue', label='train')\n",
        "    plt.plot(accuracy_history[i], color='orange', label='test')\n",
        "plt.show()"
      ],
      "execution_count": null,
      "outputs": []
    },
    {
      "cell_type": "code",
      "metadata": {
        "id": "LE3g4gDyUSNY"
      },
      "source": [
        "# Вычислите точность обученной нейросети\n",
        "\n",
        "# Место для вашего кода\n",
        "pred = neural_net(x_test)\n",
        "print('Test Accuracy:%f'%accuracy(pred, y_test))"
      ],
      "execution_count": null,
      "outputs": []
    },
    {
      "cell_type": "code",
      "metadata": {
        "id": "_EEHAubOUSNY"
      },
      "source": [
        "# Протестируем обученную нейросеть на 10 изображениях. Из тестовой выборки возьмите 5 \n",
        "# случайных изображений и передайте их в нейронню сеть.\n",
        "# Выведите изображение и выпишите рядом ответ нейросети.\n",
        "# Сделайте вывод о том ошибается ли ваша нейронная сеть и если да, то как часто?\n",
        "\n",
        "# Место для вашего кода\n",
        "n_images = 5\n",
        "test_images = x_test[:n_images]\n",
        "predictions = neural_net(test_images)\n",
        "\n",
        "# display\n",
        "for i in range(n_images):\n",
        "    plt.imshow(np.reshape(test_images[i],[28,28]),cmap='gray')\n",
        "    plt.show()\n",
        "    print('Model prediction:%i'%np.argmax(predictions.numpy()[i]))"
      ],
      "execution_count": null,
      "outputs": []
    }
  ]
}